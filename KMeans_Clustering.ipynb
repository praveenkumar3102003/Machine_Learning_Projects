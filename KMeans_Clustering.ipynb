{
 "cells": [
  {
   "cell_type": "code",
   "execution_count": 24,
   "metadata": {},
   "outputs": [],
   "source": [
    "import numpy as numpy\n",
    "import pandas as pd\n",
    "import matplotlib.pyplot as plt\n",
    "from sklearn.cluster import KMeans\n",
    "import seaborn as sns\n"
   ]
  },
  {
   "cell_type": "code",
   "execution_count": 25,
   "metadata": {},
   "outputs": [],
   "source": [
    "customer_data=pd.read_csv('Mall_Customers.csv')"
   ]
  },
  {
   "cell_type": "code",
   "execution_count": 26,
   "metadata": {},
   "outputs": [
    {
     "data": {
      "text/html": [
       "<div>\n",
       "<style scoped>\n",
       "    .dataframe tbody tr th:only-of-type {\n",
       "        vertical-align: middle;\n",
       "    }\n",
       "\n",
       "    .dataframe tbody tr th {\n",
       "        vertical-align: top;\n",
       "    }\n",
       "\n",
       "    .dataframe thead th {\n",
       "        text-align: right;\n",
       "    }\n",
       "</style>\n",
       "<table border=\"1\" class=\"dataframe\">\n",
       "  <thead>\n",
       "    <tr style=\"text-align: right;\">\n",
       "      <th></th>\n",
       "      <th>CustomerID</th>\n",
       "      <th>Gender</th>\n",
       "      <th>Age</th>\n",
       "      <th>Annual Income (k$)</th>\n",
       "      <th>Spending Score (1-100)</th>\n",
       "    </tr>\n",
       "  </thead>\n",
       "  <tbody>\n",
       "    <tr>\n",
       "      <th>0</th>\n",
       "      <td>1</td>\n",
       "      <td>Male</td>\n",
       "      <td>19</td>\n",
       "      <td>15</td>\n",
       "      <td>39</td>\n",
       "    </tr>\n",
       "    <tr>\n",
       "      <th>1</th>\n",
       "      <td>2</td>\n",
       "      <td>Male</td>\n",
       "      <td>21</td>\n",
       "      <td>15</td>\n",
       "      <td>81</td>\n",
       "    </tr>\n",
       "    <tr>\n",
       "      <th>2</th>\n",
       "      <td>3</td>\n",
       "      <td>Female</td>\n",
       "      <td>20</td>\n",
       "      <td>16</td>\n",
       "      <td>6</td>\n",
       "    </tr>\n",
       "    <tr>\n",
       "      <th>3</th>\n",
       "      <td>4</td>\n",
       "      <td>Female</td>\n",
       "      <td>23</td>\n",
       "      <td>16</td>\n",
       "      <td>77</td>\n",
       "    </tr>\n",
       "    <tr>\n",
       "      <th>4</th>\n",
       "      <td>5</td>\n",
       "      <td>Female</td>\n",
       "      <td>31</td>\n",
       "      <td>17</td>\n",
       "      <td>40</td>\n",
       "    </tr>\n",
       "    <tr>\n",
       "      <th>...</th>\n",
       "      <td>...</td>\n",
       "      <td>...</td>\n",
       "      <td>...</td>\n",
       "      <td>...</td>\n",
       "      <td>...</td>\n",
       "    </tr>\n",
       "    <tr>\n",
       "      <th>95</th>\n",
       "      <td>96</td>\n",
       "      <td>Male</td>\n",
       "      <td>24</td>\n",
       "      <td>60</td>\n",
       "      <td>52</td>\n",
       "    </tr>\n",
       "    <tr>\n",
       "      <th>96</th>\n",
       "      <td>97</td>\n",
       "      <td>Female</td>\n",
       "      <td>47</td>\n",
       "      <td>60</td>\n",
       "      <td>47</td>\n",
       "    </tr>\n",
       "    <tr>\n",
       "      <th>97</th>\n",
       "      <td>98</td>\n",
       "      <td>Female</td>\n",
       "      <td>27</td>\n",
       "      <td>60</td>\n",
       "      <td>50</td>\n",
       "    </tr>\n",
       "    <tr>\n",
       "      <th>98</th>\n",
       "      <td>99</td>\n",
       "      <td>Male</td>\n",
       "      <td>48</td>\n",
       "      <td>61</td>\n",
       "      <td>42</td>\n",
       "    </tr>\n",
       "    <tr>\n",
       "      <th>99</th>\n",
       "      <td>100</td>\n",
       "      <td>Male</td>\n",
       "      <td>20</td>\n",
       "      <td>61</td>\n",
       "      <td>49</td>\n",
       "    </tr>\n",
       "  </tbody>\n",
       "</table>\n",
       "<p>100 rows × 5 columns</p>\n",
       "</div>"
      ],
      "text/plain": [
       "    CustomerID  Gender  Age  Annual Income (k$)  Spending Score (1-100)\n",
       "0            1    Male   19                  15                      39\n",
       "1            2    Male   21                  15                      81\n",
       "2            3  Female   20                  16                       6\n",
       "3            4  Female   23                  16                      77\n",
       "4            5  Female   31                  17                      40\n",
       "..         ...     ...  ...                 ...                     ...\n",
       "95          96    Male   24                  60                      52\n",
       "96          97  Female   47                  60                      47\n",
       "97          98  Female   27                  60                      50\n",
       "98          99    Male   48                  61                      42\n",
       "99         100    Male   20                  61                      49\n",
       "\n",
       "[100 rows x 5 columns]"
      ]
     },
     "execution_count": 26,
     "metadata": {},
     "output_type": "execute_result"
    }
   ],
   "source": [
    "customer_data.head(100)"
   ]
  },
  {
   "cell_type": "code",
   "execution_count": 27,
   "metadata": {},
   "outputs": [
    {
     "data": {
      "text/plain": [
       "<bound method DataFrame.info of      CustomerID  Gender  Age  Annual Income (k$)  Spending Score (1-100)\n",
       "0             1    Male   19                  15                      39\n",
       "1             2    Male   21                  15                      81\n",
       "2             3  Female   20                  16                       6\n",
       "3             4  Female   23                  16                      77\n",
       "4             5  Female   31                  17                      40\n",
       "..          ...     ...  ...                 ...                     ...\n",
       "195         196  Female   35                 120                      79\n",
       "196         197  Female   45                 126                      28\n",
       "197         198    Male   32                 126                      74\n",
       "198         199    Male   32                 137                      18\n",
       "199         200    Male   30                 137                      83\n",
       "\n",
       "[200 rows x 5 columns]>"
      ]
     },
     "execution_count": 27,
     "metadata": {},
     "output_type": "execute_result"
    }
   ],
   "source": [
    "customer_data.info"
   ]
  },
  {
   "cell_type": "code",
   "execution_count": 28,
   "metadata": {},
   "outputs": [
    {
     "data": {
      "text/plain": [
       "(200, 5)"
      ]
     },
     "execution_count": 28,
     "metadata": {},
     "output_type": "execute_result"
    }
   ],
   "source": [
    "customer_data.shape"
   ]
  },
  {
   "cell_type": "code",
   "execution_count": 29,
   "metadata": {},
   "outputs": [
    {
     "data": {
      "text/plain": [
       "<bound method NDFrame.describe of      CustomerID  Gender  Age  Annual Income (k$)  Spending Score (1-100)\n",
       "0             1    Male   19                  15                      39\n",
       "1             2    Male   21                  15                      81\n",
       "2             3  Female   20                  16                       6\n",
       "3             4  Female   23                  16                      77\n",
       "4             5  Female   31                  17                      40\n",
       "..          ...     ...  ...                 ...                     ...\n",
       "195         196  Female   35                 120                      79\n",
       "196         197  Female   45                 126                      28\n",
       "197         198    Male   32                 126                      74\n",
       "198         199    Male   32                 137                      18\n",
       "199         200    Male   30                 137                      83\n",
       "\n",
       "[200 rows x 5 columns]>"
      ]
     },
     "execution_count": 29,
     "metadata": {},
     "output_type": "execute_result"
    }
   ],
   "source": [
    "customer_data.describe"
   ]
  },
  {
   "cell_type": "code",
   "execution_count": 30,
   "metadata": {},
   "outputs": [
    {
     "name": "stdout",
     "output_type": "stream",
     "text": [
      "<class 'pandas.core.frame.DataFrame'>\n",
      "RangeIndex: 200 entries, 0 to 199\n",
      "Data columns (total 5 columns):\n",
      " #   Column                  Non-Null Count  Dtype \n",
      "---  ------                  --------------  ----- \n",
      " 0   CustomerID              200 non-null    int64 \n",
      " 1   Gender                  200 non-null    object\n",
      " 2   Age                     200 non-null    int64 \n",
      " 3   Annual Income (k$)      200 non-null    int64 \n",
      " 4   Spending Score (1-100)  200 non-null    int64 \n",
      "dtypes: int64(4), object(1)\n",
      "memory usage: 7.9+ KB\n"
     ]
    }
   ],
   "source": [
    "customer_data.info()"
   ]
  },
  {
   "cell_type": "code",
   "execution_count": 33,
   "metadata": {},
   "outputs": [
    {
     "data": {
      "text/plain": [
       "CustomerID                0\n",
       "Gender                    0\n",
       "Age                       0\n",
       "Annual Income (k$)        0\n",
       "Spending Score (1-100)    0\n",
       "dtype: int64"
      ]
     },
     "execution_count": 33,
     "metadata": {},
     "output_type": "execute_result"
    }
   ],
   "source": [
    "customer_data.isnull().sum()"
   ]
  },
  {
   "cell_type": "code",
   "execution_count": 31,
   "metadata": {},
   "outputs": [],
   "source": [
    "X=customer_data.iloc[:,[3,3]].values"
   ]
  },
  {
   "cell_type": "code",
   "execution_count": 32,
   "metadata": {},
   "outputs": [
    {
     "name": "stdout",
     "output_type": "stream",
     "text": [
      "[[ 15  15]\n",
      " [ 15  15]\n",
      " [ 16  16]\n",
      " [ 16  16]\n",
      " [ 17  17]\n",
      " [ 17  17]\n",
      " [ 18  18]\n",
      " [ 18  18]\n",
      " [ 19  19]\n",
      " [ 19  19]\n",
      " [ 19  19]\n",
      " [ 19  19]\n",
      " [ 20  20]\n",
      " [ 20  20]\n",
      " [ 20  20]\n",
      " [ 20  20]\n",
      " [ 21  21]\n",
      " [ 21  21]\n",
      " [ 23  23]\n",
      " [ 23  23]\n",
      " [ 24  24]\n",
      " [ 24  24]\n",
      " [ 25  25]\n",
      " [ 25  25]\n",
      " [ 28  28]\n",
      " [ 28  28]\n",
      " [ 28  28]\n",
      " [ 28  28]\n",
      " [ 29  29]\n",
      " [ 29  29]\n",
      " [ 30  30]\n",
      " [ 30  30]\n",
      " [ 33  33]\n",
      " [ 33  33]\n",
      " [ 33  33]\n",
      " [ 33  33]\n",
      " [ 34  34]\n",
      " [ 34  34]\n",
      " [ 37  37]\n",
      " [ 37  37]\n",
      " [ 38  38]\n",
      " [ 38  38]\n",
      " [ 39  39]\n",
      " [ 39  39]\n",
      " [ 39  39]\n",
      " [ 39  39]\n",
      " [ 40  40]\n",
      " [ 40  40]\n",
      " [ 40  40]\n",
      " [ 40  40]\n",
      " [ 42  42]\n",
      " [ 42  42]\n",
      " [ 43  43]\n",
      " [ 43  43]\n",
      " [ 43  43]\n",
      " [ 43  43]\n",
      " [ 44  44]\n",
      " [ 44  44]\n",
      " [ 46  46]\n",
      " [ 46  46]\n",
      " [ 46  46]\n",
      " [ 46  46]\n",
      " [ 47  47]\n",
      " [ 47  47]\n",
      " [ 48  48]\n",
      " [ 48  48]\n",
      " [ 48  48]\n",
      " [ 48  48]\n",
      " [ 48  48]\n",
      " [ 48  48]\n",
      " [ 49  49]\n",
      " [ 49  49]\n",
      " [ 50  50]\n",
      " [ 50  50]\n",
      " [ 54  54]\n",
      " [ 54  54]\n",
      " [ 54  54]\n",
      " [ 54  54]\n",
      " [ 54  54]\n",
      " [ 54  54]\n",
      " [ 54  54]\n",
      " [ 54  54]\n",
      " [ 54  54]\n",
      " [ 54  54]\n",
      " [ 54  54]\n",
      " [ 54  54]\n",
      " [ 57  57]\n",
      " [ 57  57]\n",
      " [ 58  58]\n",
      " [ 58  58]\n",
      " [ 59  59]\n",
      " [ 59  59]\n",
      " [ 60  60]\n",
      " [ 60  60]\n",
      " [ 60  60]\n",
      " [ 60  60]\n",
      " [ 60  60]\n",
      " [ 60  60]\n",
      " [ 61  61]\n",
      " [ 61  61]\n",
      " [ 62  62]\n",
      " [ 62  62]\n",
      " [ 62  62]\n",
      " [ 62  62]\n",
      " [ 62  62]\n",
      " [ 62  62]\n",
      " [ 63  63]\n",
      " [ 63  63]\n",
      " [ 63  63]\n",
      " [ 63  63]\n",
      " [ 63  63]\n",
      " [ 63  63]\n",
      " [ 64  64]\n",
      " [ 64  64]\n",
      " [ 65  65]\n",
      " [ 65  65]\n",
      " [ 65  65]\n",
      " [ 65  65]\n",
      " [ 67  67]\n",
      " [ 67  67]\n",
      " [ 67  67]\n",
      " [ 67  67]\n",
      " [ 69  69]\n",
      " [ 69  69]\n",
      " [ 70  70]\n",
      " [ 70  70]\n",
      " [ 71  71]\n",
      " [ 71  71]\n",
      " [ 71  71]\n",
      " [ 71  71]\n",
      " [ 71  71]\n",
      " [ 71  71]\n",
      " [ 72  72]\n",
      " [ 72  72]\n",
      " [ 73  73]\n",
      " [ 73  73]\n",
      " [ 73  73]\n",
      " [ 73  73]\n",
      " [ 74  74]\n",
      " [ 74  74]\n",
      " [ 75  75]\n",
      " [ 75  75]\n",
      " [ 76  76]\n",
      " [ 76  76]\n",
      " [ 77  77]\n",
      " [ 77  77]\n",
      " [ 77  77]\n",
      " [ 77  77]\n",
      " [ 78  78]\n",
      " [ 78  78]\n",
      " [ 78  78]\n",
      " [ 78  78]\n",
      " [ 78  78]\n",
      " [ 78  78]\n",
      " [ 78  78]\n",
      " [ 78  78]\n",
      " [ 78  78]\n",
      " [ 78  78]\n",
      " [ 78  78]\n",
      " [ 78  78]\n",
      " [ 79  79]\n",
      " [ 79  79]\n",
      " [ 81  81]\n",
      " [ 81  81]\n",
      " [ 85  85]\n",
      " [ 85  85]\n",
      " [ 86  86]\n",
      " [ 86  86]\n",
      " [ 87  87]\n",
      " [ 87  87]\n",
      " [ 87  87]\n",
      " [ 87  87]\n",
      " [ 87  87]\n",
      " [ 87  87]\n",
      " [ 88  88]\n",
      " [ 88  88]\n",
      " [ 88  88]\n",
      " [ 88  88]\n",
      " [ 93  93]\n",
      " [ 93  93]\n",
      " [ 97  97]\n",
      " [ 97  97]\n",
      " [ 98  98]\n",
      " [ 98  98]\n",
      " [ 99  99]\n",
      " [ 99  99]\n",
      " [101 101]\n",
      " [101 101]\n",
      " [103 103]\n",
      " [103 103]\n",
      " [103 103]\n",
      " [103 103]\n",
      " [113 113]\n",
      " [113 113]\n",
      " [120 120]\n",
      " [120 120]\n",
      " [126 126]\n",
      " [126 126]\n",
      " [137 137]\n",
      " [137 137]]\n"
     ]
    }
   ],
   "source": [
    "print(X)"
   ]
  },
  {
   "cell_type": "code",
   "execution_count": 42,
   "metadata": {},
   "outputs": [],
   "source": [
    "wcss=[]\n",
    "\n",
    "for i in range(1,1):\n",
    "    Kmeans=KMeans(n_clusters=i,init='K-means++',random_state=42)\n",
    "    Kmeans.fit(X)\n",
    "    wcss.append(Kmeans.inertia_)\n",
    "    "
   ]
  },
  {
   "cell_type": "code",
   "execution_count": 71,
   "metadata": {},
   "outputs": [
    {
     "data": {
      "image/png": "[encoded data removed]",
      "text/plain": [
       "<Figure size 640x480 with 1 Axes>"
      ]
     },
     "metadata": {},
     "output_type": "display_data"
    }
   ],
   "source": [
    "import seaborn as sns\n",
    "import matplotlib.pyplot as plt\n",
    "from sklearn.cluster import KMeans\n",
    "from sklearn.datasets import make_blobs\n",
    "X, _ = make_blobs(n_samples=300, centers=5, random_state=42)\n",
    "wcss = []\n",
    "for i in range(1, 11):\n",
    "    kmeans = KMeans(n_clusters=i, init='k-means++', random_state=42)\n",
    "    kmeans.fit(X)\n",
    "    wcss.append(kmeans.inertia_)\n",
    "sns.set()\n",
    "plt.plot(range(1, 11), wcss)\n",
    "plt.title('The Elbow Point Graph')\n",
    "plt.xlabel('Number of clusters')\n",
    "plt.ylabel('WCSS')\n",
    "plt.show()\n"
   ]
  },
  {
   "cell_type": "code",
   "execution_count": 72,
   "metadata": {},
   "outputs": [
    {
     "name": "stdout",
     "output_type": "stream",
     "text": [
      "[3 0 3 0 3 4 0 2 1 0 0 3 0 3 0 3 0 0 0 3 3 0 3 0 0 3 2 0 0 2 1 0 0 1 2 0 0\n",
      " 0 4 0 3 0 2 1 0 1 3 2 0 2 4 0 2 1 3 1 0 3 4 2 3 4 0 0 2 0 2 2 2 2 0 2 4 0\n",
      " 4 3 4 1 0 3 2 3 3 0 3 2 4 0 0 0 0 0 3 0 3 3 0 1 0 0 4 4 0 2 3 3 3 0 3 0 4\n",
      " 0 0 0 3 3 3 2 4 1 4 2 1 1 3 2 0 0 4 3 0 1 0 3 3 3 3 0 2 0 3 4 3 0 0 3 0 2\n",
      " 0 2 0 2 2 0 3 0 2 4 3 0 1 1 0 0 3 1 0 0 0 0 2 3 0 0 3 0 4 0 2 2 4 1 0 2 2\n",
      " 0 3 1 2 0 0 2 3 2 2 1 4 2 0 0 1 2 0 0 1 3 3 2 2 3 2 1 0 2 3 0 1 1 2 0 1 4\n",
      " 0 4 0 0 1 0 4 0 1 0 0 2 0 0 0 0 0 3 4 0 2 0 2 1 0 0 2 2 0 0 4 2 4 0 2 0 2\n",
      " 0 2 3 0 0 0 3 0 0 2 0 1 2 2 3 3 4 0 0 0 0 1 3 3 0 0 2 2 2 0 0 4 0 2 4 3 4\n",
      " 2 3 0 3]\n"
     ]
    }
   ],
   "source": [
    "kmeans=KMeans(n_clusters=5,init='k-means++',random_state=42)\n",
    "Y=kmeans.fit_predict(X)\n",
    "print(Y)"
   ]
  },
  {
   "cell_type": "code",
   "execution_count": 73,
   "metadata": {},
   "outputs": [
    {
     "data": {
      "text/plain": [
       "Text(0, 0.5, 'Spending Score')"
      ]
     },
     "execution_count": 73,
     "metadata": {},
     "output_type": "execute_result"
    },
    {
     "data": {
      "image/png": "[encoded data removed]",
      "text/plain": [
       "<Figure size 800x800 with 1 Axes>"
      ]
     },
     "metadata": {},
     "output_type": "display_data"
    }
   ],
   "source": [
    "plt.figure(figsize=(8,8))\n",
    "plt.scatter(X[Y==0,0],X[Y==0,1],s=50,c='green',label='Cluster 1')\n",
    "plt.scatter(X[Y==1,0],X[Y==1,1],s=50,c='red',label='Cluster 2')\n",
    "plt.scatter(X[Y==2,0],X[Y==2,1],s=50,c='yellow',label='Cluster 3')\n",
    "plt.scatter(X[Y==3,0],X[Y==3,1],s=50,c='violet',label='Cluster 4')\n",
    "plt.scatter(X[Y==4,0],X[Y==4,1],s=50,c='blue',label='Cluster 5')\n",
    "\n",
    "plt.scatter(kmeans.cluster_centers_[:,0],kmeans.cluster_centers_[:,1],s=100,c='black',label='Centroids')\n",
    "\n",
    "plt.title(\"Customer's Category\")\n",
    "plt.xlabel(\"Annual Income\")\n",
    "plt.ylabel(\"Spending Score\")"
   ]
  }
 ],
 "metadata": {
  "kernelspec": {
   "display_name": "Python 3",
   "language": "python",
   "name": "python3"
  },
  "language_info": {
   "codemirror_mode": {
    "name": "ipython",
    "version": 3
   },
   "file_extension": ".py",
   "mimetype": "text/x-python",
   "name": "python",
   "nbconvert_exporter": "python",
   "pygments_lexer": "ipython3",
   "version": "3.11.7"
  }
 },
 "nbformat": 4,
 "nbformat_minor": 2
}
